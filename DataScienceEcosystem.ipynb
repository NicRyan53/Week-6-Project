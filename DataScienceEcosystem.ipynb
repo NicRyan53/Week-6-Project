{
 "cells": [
  {
   "cell_type": "markdown",
   "id": "221dd147",
   "metadata": {},
   "source": [
    "# Data Science Tools and Ecosystem"
   ]
  },
  {
   "cell_type": "markdown",
   "id": "cfa80ea5",
   "metadata": {},
   "source": [
    "In this notebook, Data Science Tools and Ecosystem are summarized."
   ]
  },
  {
   "cell_type": "markdown",
   "id": "bd4577da",
   "metadata": {},
   "source": [
    "Some of the popular languages that Data Scientists use are:\n",
    "\n",
    "1. Python\n",
    "2. R\n",
    "3. Julia\n",
    "4. SQL (Structured Query Language)\n",
    "5. Scala (for Apache Spark)\n",
    "\n",
    "These languages are widely utilized by data scientists for tasks such as data analysis, machine learning, and statistical modeling."
   ]
  },
  {
   "cell_type": "markdown",
   "id": "8c59d810",
   "metadata": {},
   "source": [
    "Some of the commonly used libraries used by Data Scientists include:\n",
    "\n",
    "1. NumPy\n",
    "2. pandas\n",
    "3. scikit-learn\n",
    "4. Matplotlib\n",
    "5. TensorFlow\n",
    "6. PyTorch\n",
    "\n",
    "These libraries provide essential tools and functions for tasks such as data manipulation, numerical computing, machine learning, and data visualization in the field of data science."
   ]
  },
  {
   "cell_type": "markdown",
   "id": "b1cbada2",
   "metadata": {},
   "source": [
    "| Data Science Tools |\n",
    "|---------------------|\n",
    "| Jupyter Notebook   |\n",
    "| RStudio            |\n",
    "| Visual Studio Code |\n"
   ]
  },
  {
   "cell_type": "markdown",
   "id": "2ebaa632",
   "metadata": {},
   "source": [
    "### Below are a few examples of evaluating arithmetic expressions in Python.\n",
    "\n",
    "```python\n",
    "# Addition\n",
    "result = 5 + 3\n",
    "print(result)  # Output: 8\n",
    "\n",
    "# Subtraction\n",
    "result = 10 - 4\n",
    "print(result)  # Output: 6\n",
    "\n",
    "# Multiplication\n",
    "result = 7 * 2\n",
    "print(result)  # Output: 14\n",
    "\n",
    "# Division\n",
    "result = 15 / 3\n",
    "print(result)  # Output: 5.0"
   ]
  },
  {
   "cell_type": "code",
   "execution_count": 5,
   "id": "caad2c69",
   "metadata": {},
   "outputs": [
    {
     "name": "stdout",
     "output_type": "stream",
     "text": [
      "17\n"
     ]
    }
   ],
   "source": [
    "# This is a simple arithmetic expression to multiply then add integers.\n",
    "result = (3 * 4) + 5\n",
    "print(result)  # Output: 17\n"
   ]
  },
  {
   "cell_type": "code",
   "execution_count": 6,
   "id": "891e8fd0",
   "metadata": {},
   "outputs": [
    {
     "name": "stdout",
     "output_type": "stream",
     "text": [
      "3.3333333333333335\n"
     ]
    }
   ],
   "source": [
    "# This will convert 200 minutes to hours by dividing by 60.\n",
    "minutes = 200\n",
    "hours = minutes / 60\n",
    "print(hours)  # Output: 3.3333333333333335"
   ]
  },
  {
   "cell_type": "markdown",
   "id": "773d0b42",
   "metadata": {},
   "source": [
    "**Objectives:**\n",
    "\n",
    "- List popular languages for Data Science.\n",
    "- Introduce commonly used libraries in Data Science.\n",
    "- Showcase open-source development environment tools.\n",
    "- Provide examples of evaluating arithmetic expressions in Python.\n",
    "- Demonstrate the conversion of minutes to hours.\n"
   ]
  },
  {
   "cell_type": "markdown",
   "id": "a2836a7c",
   "metadata": {},
   "source": [
    "## Author\n",
    "Erin Jackson\n"
   ]
  },
  {
   "cell_type": "code",
   "execution_count": null,
   "id": "bd645630",
   "metadata": {},
   "outputs": [],
   "source": []
  }
 ],
 "metadata": {
  "kernelspec": {
   "display_name": "Python 3 (ipykernel)",
   "language": "python",
   "name": "python3"
  },
  "language_info": {
   "codemirror_mode": {
    "name": "ipython",
    "version": 3
   },
   "file_extension": ".py",
   "mimetype": "text/x-python",
   "name": "python",
   "nbconvert_exporter": "python",
   "pygments_lexer": "ipython3",
   "version": "3.10.9"
  }
 },
 "nbformat": 4,
 "nbformat_minor": 5
}
